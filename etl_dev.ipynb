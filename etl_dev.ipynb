{
 "cells": [
  {
   "cell_type": "code",
   "execution_count": 39,
   "metadata": {
    "editable": true
   },
   "outputs": [],
   "source": [
    "import configparser\n",
    "from datetime import datetime\n",
    "from time import sleep, time\n",
    "import os\n",
    "from pyspark.sql import SparkSession\n",
    "# from pyspark.sql import types as t\n",
    "from pyspark.sql.functions import udf, col, count, when\n",
    "from pyspark.sql.functions import year, month, dayofmonth, hour, weekofyear, date_format, dayofweek, from_unixtime"
   ]
  },
  {
   "cell_type": "code",
   "execution_count": 2,
   "metadata": {
    "editable": true
   },
   "outputs": [],
   "source": [
    "spark = SparkSession \\\n",
    "    .builder \\\n",
    "    .config(\"spark.jars.packages\", \"org.apache.hadoop:hadoop-aws:2.7.0\") \\\n",
    "    .getOrCreate()\n",
    "# The package `org.apache.hadoop:hadoop-aws:2.7.0` allows you to connect aws S3."
   ]
  },
  {
   "cell_type": "code",
   "execution_count": 3,
   "metadata": {
    "editable": true
   },
   "outputs": [
    {
     "data": {
      "text/html": [
       "\n",
       "            <div>\n",
       "                <p><b>SparkSession - in-memory</b></p>\n",
       "                \n",
       "        <div>\n",
       "            <p><b>SparkContext</b></p>\n",
       "\n",
       "            <p><a href=\"http://b9daf156219d:4040\">Spark UI</a></p>\n",
       "\n",
       "            <dl>\n",
       "              <dt>Version</dt>\n",
       "                <dd><code>v2.4.3</code></dd>\n",
       "              <dt>Master</dt>\n",
       "                <dd><code>local[*]</code></dd>\n",
       "              <dt>AppName</dt>\n",
       "                <dd><code>pyspark-shell</code></dd>\n",
       "            </dl>\n",
       "        </div>\n",
       "        \n",
       "            </div>\n",
       "        "
      ],
      "text/plain": [
       "<pyspark.sql.session.SparkSession at 0x7f7f8727d908>"
      ]
     },
     "execution_count": 3,
     "metadata": {},
     "output_type": "execute_result"
    }
   ],
   "source": [
    "spark"
   ]
  },
  {
   "cell_type": "code",
   "execution_count": 4,
   "metadata": {
    "editable": true
   },
   "outputs": [],
   "source": [
    "config = configparser.ConfigParser()\n",
    "# config.read('dl.cfg')\n",
    "\n",
    "config.read_file(open('dl.cfg'))\n",
    "    \n",
    "# print(config)\n",
    "# config.sections()\n",
    "\n",
    "os.environ['AWS_ACCESS_KEY_ID'] = config.get('AWS','AWS_ACCESS_KEY_ID')\n",
    "os.environ['AWS_SECRET_ACCESS_KEY'] = config.get('AWS','AWS_SECRET_ACCESS_KEY')"
   ]
  },
  {
   "cell_type": "code",
   "execution_count": 5,
   "metadata": {
    "editable": true
   },
   "outputs": [],
   "source": [
    "# input_data_base_path = \"s3a://udacity-dend/\"\n",
    "input_data = \"data/\"\n",
    "output_data = \"analytics/\""
   ]
  },
  {
   "cell_type": "code",
   "execution_count": 6,
   "metadata": {
    "editable": true
   },
   "outputs": [],
   "source": [
    "# df = spark.read.json(input_data + \"song-data/A/A/A/*.json\")"
   ]
  },
  {
   "cell_type": "markdown",
   "metadata": {
    "editable": true
   },
   "source": [
    "### Process the song data"
   ]
  },
  {
   "cell_type": "code",
   "execution_count": 62,
   "metadata": {
    "editable": true
   },
   "outputs": [
    {
     "name": "stdout",
     "output_type": "stream",
     "text": [
      "root\n",
      " |-- artist_id: string (nullable = true)\n",
      " |-- artist_latitude: double (nullable = true)\n",
      " |-- artist_location: string (nullable = true)\n",
      " |-- artist_longitude: double (nullable = true)\n",
      " |-- artist_name: string (nullable = true)\n",
      " |-- duration: double (nullable = true)\n",
      " |-- num_songs: long (nullable = true)\n",
      " |-- song_id: string (nullable = true)\n",
      " |-- title: string (nullable = true)\n",
      " |-- year: long (nullable = true)\n",
      "\n"
     ]
    },
    {
     "data": {
      "text/plain": [
       "71"
      ]
     },
     "execution_count": 62,
     "metadata": {},
     "output_type": "execute_result"
    }
   ],
   "source": [
    "# def process_song_data(spark, input_data, output_data):\n",
    "\n",
    "# get filepath to song data file\n",
    "song_data = input_data + \"/song-data/*/*/*/*.json\"\n",
    "\n",
    "# read song data file\n",
    "df = spark.read.json(song_data)\n",
    "\n",
    "df.printSchema()\n",
    "df.count()"
   ]
  },
  {
   "cell_type": "code",
   "execution_count": 63,
   "metadata": {
    "editable": true
   },
   "outputs": [
    {
     "name": "stdout",
     "output_type": "stream",
     "text": [
      "+------------------+--------------------+------------------+----+---------+--------------+\n",
      "|           song_id|               title|         artist_id|year| duration|   artist_name|\n",
      "+------------------+--------------------+------------------+----+---------+--------------+\n",
      "|SOKEJEJ12A8C13E0D0|The Urgency (LP V...|ARC43071187B990240|   0|245.21098|  Wayne Watson|\n",
      "|SOZCTXZ12AB0182364|      Setanta matins|AR5KOSW1187FB35FF4|   0|269.58322|         Elena|\n",
      "|SORRZGD12A6310DBC3|      Harajuku Girls|ARVBRGZ1187FB4675A|2004|290.55955|  Gwen Stefani|\n",
      "|SOGVQGJ12AB017F169|           Ten Tonne|AR62SOJ1187FB47BB5|2005|337.68444|Chase & Status|\n",
      "|SOQOTLQ12AB01868D0|  Clementina Santafè|ARGCY1Y1187B9A4FA5|   0|153.33832|      Gloriana|\n",
      "+------------------+--------------------+------------------+----+---------+--------------+\n",
      "only showing top 5 rows\n",
      "\n",
      "songs_table written to parquet\n",
      "\n"
     ]
    }
   ],
   "source": [
    "\n",
    "# # extract columns to create songs table\n",
    "song_cols = [\"song_id\", \"title\", \"artist_id\", \"year\", \"duration\", \"artist_name\"]\n",
    "songs_table = df.select(song_cols).distinct()\n",
    "songs_table.show(5)\n",
    "\n",
    "# write songs table to parquet files partitioned by year and artist\n",
    "songs_table.write.partitionBy(\"year\", \"artist_name\").mode('overwrite').parquet(output_data + \"/songs\")\n",
    "print (\"songs_table written to parquet\\n\")\n"
   ]
  },
  {
   "cell_type": "code",
   "execution_count": 56,
   "metadata": {
    "editable": true
   },
   "outputs": [
    {
     "name": "stdout",
     "output_type": "stream",
     "text": [
      "+------------------+---------------+---------------+--------+----------+\n",
      "|         artist_id|           name|       location|latitude| longitude|\n",
      "+------------------+---------------+---------------+--------+----------+\n",
      "|ARPBNLO1187FB3D52F|       Tiny Tim|   New York, NY|40.71455| -74.00712|\n",
      "|ARXR32B1187FB57099|            Gob|               |    null|      null|\n",
      "|AROGWRA122988FEE45|Christos Dantis|               |    null|      null|\n",
      "|ARBGXIG122988F409D|     Steel Rain|California - SF|37.77916|-122.42005|\n",
      "|AREVWGE1187B9B890A|     Bitter End|      Noci (BA)| -13.442|  -41.9952|\n",
      "+------------------+---------------+---------------+--------+----------+\n",
      "only showing top 5 rows\n",
      "\n",
      "artists_table written to parquet\n"
     ]
    }
   ],
   "source": [
    "# extract columns to create artists table\n",
    "# artists_cols = [\"df['artist_id']\", \"df['artist_name'] as name\", \"df['artist_location'] as location\", \"df['artist_latitude'] as latitude\", \"df['artist_longitude'] as longitude\"]\n",
    "# artists_cols = [\"artist_id\", \"artist_name as name\", \"artist_location as location\", \"artist_latitude as latitude\", \"artist_longitude as longitude\"]\n",
    "\n",
    "# artists_cols = [\"artist_id\", \"artist_name\", \"artist_location\", \"artist_latitude\", \"artist_longitude\"]\n",
    "# artists_table = \\\n",
    "#     df.select(artists_cols) \\\n",
    "#         .withColumnRenamed(\"artist_name\", \"name\") \\\n",
    "#         .withColumnRenamed(\"artist_location\", \"location\") \\\n",
    "#         .withColumnRenamed(\"artist_latitude\", \"latitude\") \\\n",
    "#         .withColumnRenamed(\"artist_longitude\", \"longitude\") \\\n",
    "#         .distinct()\n",
    "\n",
    "artists_cols = [\"artist_id\", \"artist_name as name\", \"artist_location as location\", \"artist_latitude as latitude\", \"artist_longitude as longitude\"]\n",
    "artists_table = df.selectExpr(artists_cols).distinct()\n",
    "\n",
    "# artists_table = df.selectExpr(artists_cols)\n",
    "artists_table.show(5)\n",
    "\n",
    "# write artists table to parquet files\n",
    "artists_table.write.mode('overwrite').parquet(output_data + \"/artists\")\n",
    "print (\"artists_table written to parquet\")\n",
    "    \n",
    "    "
   ]
  },
  {
   "cell_type": "markdown",
   "metadata": {
    "editable": true
   },
   "source": [
    "### Now the log data"
   ]
  },
  {
   "cell_type": "code",
   "execution_count": 88,
   "metadata": {
    "editable": true
   },
   "outputs": [
    {
     "name": "stdout",
     "output_type": "stream",
     "text": [
      "root\n",
      " |-- artist: string (nullable = true)\n",
      " |-- auth: string (nullable = true)\n",
      " |-- firstName: string (nullable = true)\n",
      " |-- gender: string (nullable = true)\n",
      " |-- itemInSession: long (nullable = true)\n",
      " |-- lastName: string (nullable = true)\n",
      " |-- length: double (nullable = true)\n",
      " |-- level: string (nullable = true)\n",
      " |-- location: string (nullable = true)\n",
      " |-- method: string (nullable = true)\n",
      " |-- page: string (nullable = true)\n",
      " |-- registration: double (nullable = true)\n",
      " |-- sessionId: long (nullable = true)\n",
      " |-- song: string (nullable = true)\n",
      " |-- status: long (nullable = true)\n",
      " |-- ts: long (nullable = true)\n",
      " |-- userAgent: string (nullable = true)\n",
      " |-- userId: string (nullable = true)\n",
      " |-- start_time: string (nullable = true)\n",
      " |-- year: integer (nullable = true)\n",
      " |-- month: integer (nullable = true)\n",
      "\n"
     ]
    },
    {
     "data": {
      "text/plain": [
       "6820"
      ]
     },
     "execution_count": 88,
     "metadata": {},
     "output_type": "execute_result"
    }
   ],
   "source": [
    "# def process_log_data(spark, input_data, output_data):\n",
    "# get filepath to log data file\n",
    "log_data = input_data + \"/log-data/*.json\"\n",
    "\n",
    "# read log data file\n",
    "df = spark.read.json(log_data)\n",
    "\n",
    "# df.show(3)\n",
    "# df.limit(3).toPandas()\n",
    "\n",
    "# filter by actions for song plays\n",
    "df = df.filter(df[\"page\"] == \"NextSong\")\n",
    "\n",
    "df = df.withColumn(\"start_time\", from_unixtime(col(\"ts\")/1000)) \\\n",
    "    .withColumn('year', year('start_time')) \\\n",
    "    .withColumn('month', month('start_time'))\n",
    "# df.show(3)\n",
    "\n",
    "df.printSchema()\n",
    "df.count()"
   ]
  },
  {
   "cell_type": "code",
   "execution_count": 90,
   "metadata": {
    "editable": true
   },
   "outputs": [
    {
     "name": "stdout",
     "output_type": "stream",
     "text": [
      "+-------+----------+---------+------+-----+\n",
      "|user_id|first_name|last_name|gender|level|\n",
      "+-------+----------+---------+------+-----+\n",
      "|     26|      Ryan|    Smith|     M| free|\n",
      "|      7|    Adelyn|   Jordan|     F| free|\n",
      "|     71|    Ayleen|     Wise|     F| free|\n",
      "+-------+----------+---------+------+-----+\n",
      "only showing top 3 rows\n",
      "\n"
     ]
    },
    {
     "data": {
      "text/plain": [
       "104"
      ]
     },
     "execution_count": 90,
     "metadata": {},
     "output_type": "execute_result"
    }
   ],
   "source": [
    "# extract columns for users table    \n",
    "# users_cols = [\"userId\", \"firstName\", \"lastName\", \"gender\", \"level\"]\n",
    "# users_table = \\\n",
    "#     df.select(users_cols) \\\n",
    "#         .withColumnRenamed(\"userId\", \"user_id\") \\\n",
    "#         .withColumnRenamed(\"firstName\", \"first_name\") \\\n",
    "#         .withColumnRenamed(\"lastName\", \"last_name\")\n",
    "# users_table.show(3)\n",
    "\n",
    "users_cols = [\"userId as user_id\", \"firstName as first_name\", \"lastName as last_name\", \"gender\", \"level\"]\n",
    "users_table = df.selectExpr(users_cols).distinct()\n",
    "\n",
    "users_table.show(3)\n",
    "users_table.count()\n",
    "# write users table to parquet files\n",
    "# users_table.write.mode('overwrite').parquet(output_data + \"/users\")"
   ]
  },
  {
   "cell_type": "code",
   "execution_count": 96,
   "metadata": {
    "editable": true
   },
   "outputs": [],
   "source": [
    "# # create timestamp column from original timestamp column\n",
    "# get_timestamp = udf()\n",
    "# df = \n",
    "\n",
    "# # create datetime column from original timestamp column\n",
    "# get_datetime = udf()\n",
    "# df = \n",
    "\n",
    "# extract columns to create time table\n",
    "time_table = df \\\n",
    "    .select(from_unixtime(col(\"ts\")/1000).alias(\"start_time\")) \\\n",
    "    .withColumn('hour', hour('start_time')) \\\n",
    "    .withColumn('day', dayofmonth('start_time')) \\\n",
    "    .withColumn('week', weekofyear('start_time')) \\\n",
    "    .withColumn('month', month('start_time')) \\\n",
    "    .withColumn('year', year('start_time')) \\\n",
    "    .withColumn('weekday', dayofweek('start_time')) \\\n",
    "    .distinct()\n",
    "\n",
    "# write time table to parquet files partitioned by year and month\n",
    "time_table.write.partitionBy(\"year\", \"month\").mode('overwrite').parquet(output_data + \"/time\")"
   ]
  },
  {
   "cell_type": "code",
   "execution_count": 97,
   "metadata": {
    "editable": true
   },
   "outputs": [
    {
     "name": "stdout",
     "output_type": "stream",
     "text": [
      "+-------------------+----+---+----+-----+----+-------+\n",
      "|         start_time|hour|day|week|month|year|weekday|\n",
      "+-------------------+----+---+----+-----+----+-------+\n",
      "|2018-11-15 12:38:03|  12| 15|  46|   11|2018|      5|\n",
      "|2018-11-15 22:00:58|  22| 15|  46|   11|2018|      5|\n",
      "|2018-11-21 19:00:45|  19| 21|  47|   11|2018|      4|\n",
      "+-------------------+----+---+----+-----+----+-------+\n",
      "only showing top 3 rows\n",
      "\n"
     ]
    }
   ],
   "source": [
    "time_table.show(3)"
   ]
  },
  {
   "cell_type": "code",
   "execution_count": 98,
   "metadata": {
    "editable": true
   },
   "outputs": [
    {
     "data": {
      "text/plain": [
       "6813"
      ]
     },
     "execution_count": 98,
     "metadata": {},
     "output_type": "execute_result"
    }
   ],
   "source": [
    "time_table.count()"
   ]
  },
  {
   "cell_type": "code",
   "execution_count": 112,
   "metadata": {
    "editable": true
   },
   "outputs": [
    {
     "name": "stdout",
     "output_type": "stream",
     "text": [
      "+-------------------+-------+-----+-------+---------+----------+--------------------+--------------------+\n",
      "|         start_time|user_id|level|song_id|artist_id|session_id|            location|          user_agent|\n",
      "+-------------------+-------+-----+-------+---------+----------+--------------------+--------------------+\n",
      "|2018-11-15 00:30:26|     26| free|   null|     null|       583|San Jose-Sunnyval...|\"Mozilla/5.0 (X11...|\n",
      "|2018-11-15 00:41:21|     26| free|   null|     null|       583|San Jose-Sunnyval...|\"Mozilla/5.0 (X11...|\n",
      "|2018-11-15 00:45:41|     26| free|   null|     null|       583|San Jose-Sunnyval...|\"Mozilla/5.0 (X11...|\n",
      "+-------------------+-------+-----+-------+---------+----------+--------------------+--------------------+\n",
      "only showing top 3 rows\n",
      "\n"
     ]
    }
   ],
   "source": [
    "# read in song data to use for songplays table\n",
    "# song_df = df \\\n",
    "#     .where(df[\"page\"] == \"NextSong\") \\\n",
    "#     .join( \\\n",
    "#         songs_table, \\\n",
    "#         (df.artist == songs_table.artist_name) & (df.song == songs_table.title) & (df.length == songs_table.duration) & (songs_table.song_id.isNotNull()), \\\n",
    "#         how='left' \\\n",
    "#         )\n",
    "\n",
    "\n",
    "# df = df.withColumn(\"start_time\", from_unixtime(col(\"ts\")/1000)) \\\n",
    "#     .withColumn('year', year('start_time')) \\\n",
    "#     .withColumn('month', month('start_time'))\n",
    "# # df.show(3)\n",
    "\n",
    "partial = False\n",
    "if partial:\n",
    "    song_data = input_data + \"/song-data/A/A/A/*.json\"\n",
    "else:\n",
    "    song_data = input_data + \"/song-data/*/*/*/*.json\"\n",
    "songs_df = spark.read.json(song_data)\n",
    "songs_table = songs_df \\\n",
    "    .select([\"song_id\", \"title\", \"artist_id\", \"year\", \"duration\", \"artist_name\"]) \\\n",
    "    .filter(col(\"song_id\").isNotNull()) \\\n",
    "    .distinct()\n",
    "     \n",
    "# song_df = df \\\n",
    "#     .join( \\\n",
    "#         songs_table, \\\n",
    "#         (df.artist == songs_table.artist_name) & (df.song == songs_table.title) & (df.length == songs_table.duration), \\\n",
    "#         how='left' \\\n",
    "#         ) \\\n",
    "#     .filter(songs_table.song_id.isNotNull())\n",
    "\n",
    "\n",
    "#.select([\"ts\", \"userId\", \"level\", ])\n",
    "\n",
    "# song_df.count()\n",
    "# song_df.show(3)\n",
    "\n",
    "# sp_df = df.selectExpr([\"artist\", \"length\", \"ts\", \"song\", \"userId as user_id\", \"level\", \"sessionId as session_id\", \"location\", \"userAgent as user_agent\"]) \\\n",
    "#         .withColumn(\"start_time\", from_unixtime(col(\"ts\")/1000)) \\\n",
    "#         .withColumn('year', year('start_time')) \\\n",
    "#         .withColumn('month', month('start_time')) \\\n",
    "#         .drop(\"ts\")\n",
    "# sp_df = df.selectExpr([\"artist\", \"length\", \"ts\", \"song\", \"userId as user_id\", \"level\", \"sessionId as session_id\", \"location\", \"userAgent as user_agent\"]) \\\n",
    "#         .drop(\"ts\")\n",
    "\n",
    "# sp_df.show(3)\n",
    "\n",
    "# songplays_table = sp_df \\\n",
    "#     .join( \\\n",
    "#         songs_table, \\\n",
    "#         (sp_df.artist == songs_table.artist_name) & (sp_df.song == songs_table.title) & (sp_df.length == songs_table.duration), \\\n",
    "#         how='left' \\\n",
    "#         ) \\\n",
    "#     .filter(songs_table.song_id.isNotNull()) \\\n",
    "#     .drop(\"artist\") \\\n",
    "#     .drop(\"length\")\n",
    "\n",
    "songplays_table = df \\\n",
    "    .join( \\\n",
    "        songs_table, \\\n",
    "        (df.artist == songs_table.artist_name) & (df.song == songs_table.title) & (df.length == songs_table.duration), \\\n",
    "        how='left' \\\n",
    "        ) #\\\n",
    "#     .filter(songs_table.song_id.isNotNull())\n",
    "\n",
    "songplays_table = songplays_table\\\n",
    "    .selectExpr([\"start_time\", \"userId as user_id\", \"level\", \"song_id\", \"artist_id\", \"sessionId as session_id\", \"location\", \"userAgent as user_agent\"])\n",
    "\n",
    "# .withColumnRenamed(\"userId\", \"user_id\") \\\n",
    "#     .withColumnRenamed(\"sessionId\", \"session_id\") \\\n",
    "#     .withColumnRenamed(\"userAgent\", \"user_agent\") \\\n",
    "\n",
    "songplays_table.show(3)\n",
    "\n",
    "# extract columns from joined song and log datasets to create songplays table \n",
    "# we'll want to partition by year and month so we need to extract that info from the ts column\n",
    "# songplays_table = \\\n",
    "#     song_df \\\n",
    "#         .select([\"ts\", \"userId\", \"level\", \"song_id\", \"artist_id\", \"sessionId\", \"location\", \"userAgent\"]) \\\n",
    "#         .withColumn(\"start_time\", from_unixtime(col(\"ts\")/1000)) \\\n",
    "#         .withColumn('year', year('start_time')) \\\n",
    "#         .withColumn('month', month('start_time')) \\\n",
    "#         .drop(\"ts\")\n",
    "# songplays_table.show(3)\n",
    "# songplays_table.count()\n",
    "\n",
    "# write songplays table to parquet files partitioned by year and month\n",
    "# songplays_table.write.partitionBy(\"year\", \"month\").mode('overwrite').parquet(output_data + \"/songplays\")\n"
   ]
  },
  {
   "cell_type": "code",
   "execution_count": 113,
   "metadata": {
    "editable": true
   },
   "outputs": [
    {
     "name": "stdout",
     "output_type": "stream",
     "text": [
      "root\n",
      " |-- start_time: string (nullable = true)\n",
      " |-- user_id: string (nullable = true)\n",
      " |-- level: string (nullable = true)\n",
      " |-- song_id: string (nullable = true)\n",
      " |-- artist_id: string (nullable = true)\n",
      " |-- session_id: long (nullable = true)\n",
      " |-- location: string (nullable = true)\n",
      " |-- user_agent: string (nullable = true)\n",
      "\n"
     ]
    }
   ],
   "source": [
    "songplays_table.printSchema()"
   ]
  },
  {
   "cell_type": "code",
   "execution_count": 102,
   "metadata": {
    "editable": true
   },
   "outputs": [
    {
     "data": {
      "text/plain": [
       "1"
      ]
     },
     "execution_count": 102,
     "metadata": {},
     "output_type": "execute_result"
    }
   ],
   "source": [
    "songplays_table.count()"
   ]
  },
  {
   "cell_type": "code",
   "execution_count": 57,
   "metadata": {
    "editable": true
   },
   "outputs": [
    {
     "name": "stdout",
     "output_type": "stream",
     "text": [
      "+-------+-----+---------+----+--------+-----------+\n",
      "|song_id|title|artist_id|year|duration|artist_name|\n",
      "+-------+-----+---------+----+--------+-----------+\n",
      "|      0|    0|        0|   0|       0|          0|\n",
      "+-------+-----+---------+----+--------+-----------+\n",
      "\n",
      "+---------+----+--------+--------+---------+\n",
      "|artist_id|name|location|latitude|longitude|\n",
      "+---------+----+--------+--------+---------+\n",
      "|        0|   0|       0|      38|       38|\n",
      "+---------+----+--------+--------+---------+\n",
      "\n",
      "+-------+----------+---------+------+-----+\n",
      "|user_id|first_name|last_name|gender|level|\n",
      "+-------+----------+---------+------+-----+\n",
      "|      0|         0|        0|     0|    0|\n",
      "+-------+----------+---------+------+-----+\n",
      "\n",
      "+----------+----+---+----+-----+----+-------+\n",
      "|start_time|hour|day|week|month|year|weekday|\n",
      "+----------+----+---+----+-----+----+-------+\n",
      "|         0|   0|  0|   0|    0|   0|      0|\n",
      "+----------+----+---+----+-----+----+-------+\n",
      "\n",
      "+------+-----+-------+---------+---------+--------+---------+----------+----+-----+\n",
      "|userId|level|song_id|artist_id|sessionId|location|userAgent|start_time|year|month|\n",
      "+------+-----+-------+---------+---------+--------+---------+----------+----+-----+\n",
      "|     0|    0|      0|        0|        0|       0|        0|         0|   0|    0|\n",
      "+------+-----+-------+---------+---------+--------+---------+----------+----+-----+\n",
      "\n"
     ]
    }
   ],
   "source": [
    "# from pyspark.sql.functions import isnan, when, count, col\n",
    "\n",
    "# artists_table.select([count(when(col('artist_id').isNull(), True))]).show()\n",
    "songs_table.select([count(when(col(c).isNull(), c)).alias(c) for c in songs_table.columns]).show()\n",
    "artists_table.select([count(when(col(c).isNull(), c)).alias(c) for c in artists_table.columns]).show()\n",
    "\n",
    "users_table.select([count(when(col(c).isNull(), c)).alias(c) for c in users_table.columns]).show()\n",
    "time_table.select([count(when(col(c).isNull(), c)).alias(c) for c in time_table.columns]).show()\n",
    "songplays_table.select([count(when(col(c).isNull(), c)).alias(c) for c in songplays_table.columns]).show()\n"
   ]
  },
  {
   "cell_type": "code",
   "execution_count": null,
   "metadata": {
    "editable": true
   },
   "outputs": [],
   "source": []
  }
 ],
 "metadata": {
  "kernelspec": {
   "display_name": "Python 3",
   "language": "python",
   "name": "python3"
  },
  "language_info": {
   "codemirror_mode": {
    "name": "ipython",
    "version": 3
   },
   "file_extension": ".py",
   "mimetype": "text/x-python",
   "name": "python",
   "nbconvert_exporter": "python",
   "pygments_lexer": "ipython3",
   "version": "3.6.3"
  }
 },
 "nbformat": 4,
 "nbformat_minor": 4
}

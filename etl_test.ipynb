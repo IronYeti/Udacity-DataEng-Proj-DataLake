{
 "cells": [
  {
   "cell_type": "code",
   "execution_count": 1,
   "metadata": {
    "editable": true
   },
   "outputs": [],
   "source": [
    "import configparser\n",
    "from datetime import datetime\n",
    "import os\n",
    "from pyspark.sql import SparkSession\n",
    "from pyspark.sql.functions import udf, col, count, when\n",
    "from pyspark.sql.functions import year, month, dayofmonth, hour, weekofyear, date_format, dayofweek, from_unixtime\n",
    "\n",
    "config = configparser.ConfigParser()\n",
    "config.read('dl.cfg')\n",
    "\n",
    "os.environ['AWS_ACCESS_KEY_ID']=config['AWS']['AWS_ACCESS_KEY_ID']\n",
    "os.environ['AWS_SECRET_ACCESS_KEY']=config['AWS']['AWS_SECRET_ACCESS_KEY']"
   ]
  },
  {
   "cell_type": "code",
   "execution_count": 2,
   "metadata": {
    "editable": true
   },
   "outputs": [],
   "source": [
    "def create_spark_session():\n",
    "    # The package `org.apache.hadoop:hadoop-aws:2.7.0` allows you to connect aws S3.\n",
    "    spark = SparkSession \\\n",
    "        .builder \\\n",
    "        .config(\"spark.jars.packages\", \"org.apache.hadoop:hadoop-aws:2.7.0\") \\\n",
    "        .getOrCreate()\n",
    "    return spark\n",
    "\n"
   ]
  },
  {
   "cell_type": "code",
   "execution_count": 3,
   "metadata": {
    "editable": true
   },
   "outputs": [],
   "source": [
    "def process_song_data(spark, input_data, output_data, partial=False):\n",
    "    # get filepath to song data file\n",
    "    # we use a switch for testing on smaller song files\n",
    "    if partial:\n",
    "        song_data = input_data + \"/song-data/A/A/A/*.json\"\n",
    "    else:\n",
    "        song_data = input_data + \"/song-data/*/*/*/*.json\"\n",
    "    \n",
    "    # read song data file\n",
    "    df = spark.read.json(song_data)\n",
    "\n",
    "    # extract columns to create songs table\n",
    "    song_cols = [\"song_id\", \"title\", \"artist_id\", \"year\", \"duration\", \"artist_name\"]\n",
    "    songs_table = df.select(song_cols).distinct()\n",
    "    \n",
    "    # write songs table to parquet files partitioned by year and artist\n",
    "    songs_table.write.partitionBy(\"year\", \"artist_name\").mode('overwrite').parquet(output_data + \"/songs\")\n",
    "\n",
    "    # extract columns to create artists table\n",
    "    artists_cols = [\"artist_id\", \"artist_name as name\", \"artist_location as location\", \"artist_latitude as latitude\", \"artist_longitude as longitude\"]\n",
    "    artists_table = df.selectExpr(artists_cols).distinct()\n",
    "\n",
    "    # write artists table to parquet files\n",
    "    artists_table.write.mode('overwrite').parquet(output_data + \"/artists\")"
   ]
  },
  {
   "cell_type": "code",
   "execution_count": 4,
   "metadata": {
    "editable": true
   },
   "outputs": [],
   "source": [
    "def process_log_data(spark, input_data, output_data, partial=False):\n",
    "    '''\n",
    "    load and transform the log data\n",
    "    '''\n",
    "    # get filepath to log data file\n",
    "    log_data = input_data + \"/log-data/*.json\"\n",
    "\n",
    "    # read log data file\n",
    "    df = spark.read.json(log_data)\n",
    "    \n",
    "    # filter by actions for song plays\n",
    "    df = df.filter(df[\"page\"] == \"NextSong\")\n",
    "\n",
    "    # add in some derived columns that will be needed\n",
    "    df = df.withColumn(\"start_time\", from_unixtime(col(\"ts\")/1000)) \\\n",
    "        .withColumn('year', year('start_time')) \\\n",
    "        .withColumn('month', month('start_time'))\n",
    "    \n",
    "    # extract columns for users table    \n",
    "    users_cols = [\"userId as user_id\", \"firstName as first_name\", \"lastName as last_name\", \"gender\", \"level\"]\n",
    "    users_table = df.selectExpr(users_cols).distinct()\n",
    "    \n",
    "    # write users table to parquet files\n",
    "    users_table.write.mode('overwrite').parquet(output_data + \"/users\")\n",
    "\n",
    "    \n",
    "#     # create timestamp column from original timestamp column\n",
    "#     get_timestamp = udf()\n",
    "#     df = \n",
    "    \n",
    "#     # create datetime column from original timestamp column\n",
    "#     get_datetime = udf()\n",
    "#     df = \n",
    "\n",
    "    \"\"\"\n",
    "    time table\n",
    "    \"\"\"\n",
    "    # extract columns to create time table\n",
    "    time_table = df \\\n",
    "        .select(from_unixtime(col(\"ts\")/1000).alias(\"start_time\")) \\\n",
    "        .withColumn('hour', hour('start_time')) \\\n",
    "        .withColumn('day', dayofmonth('start_time')) \\\n",
    "        .withColumn('week', weekofyear('start_time')) \\\n",
    "        .withColumn('month', month('start_time')) \\\n",
    "        .withColumn('year', year('start_time')) \\\n",
    "        .withColumn('weekday', dayofweek('start_time')) \\\n",
    "        .distinct()\n",
    "    \n",
    "    # write time table to parquet files partitioned by year and month\n",
    "    time_table.write.partitionBy(\"year\", \"month\").mode('overwrite').parquet(output_data + \"/time\")\n",
    "\n",
    "    \n",
    "    # read in song data to use for songplays table\n",
    "    if partial:\n",
    "        song_data = input_data + \"/song-data/A/A/A/*.json\"\n",
    "    else:\n",
    "        song_data = input_data + \"/song-data/*/*/*/*.json\"\n",
    "    songs_df = spark.read.json(song_data)\n",
    "    songs_table = songs_df \\\n",
    "        .selectExpr([\"song_id\", \"title\", \"artist_id\", \"year as release_year\", \"duration\", \"artist_name\"]) \\\n",
    "        .filter(col(\"song_id\").isNotNull()) \\\n",
    "        .distinct()\n",
    "    \n",
    "    # extract columns from joined song and log datasets to create songplays table \n",
    "    songplays_table = df \\\n",
    "        .join( \\\n",
    "            songs_table, \\\n",
    "            (df.artist == songs_table.artist_name) & (df.song == songs_table.title) & (df.length == songs_table.duration), \\\n",
    "            how='left' \\\n",
    "            )\n",
    "#     songplays_table.printSchema() \n",
    "    songplays_table = songplays_table\\\n",
    "        .selectExpr([\"start_time\", \"userId as user_id\", \"level\", \"song_id\", \"artist_id\", \"sessionId as session_id\", \"location\", \"userAgent as user_agent\", \"year\", \"month\"])\n",
    "\n",
    "#     # write songplays table to parquet files partitioned by year and month\n",
    "    songplays_table.write.partitionBy(\"year\", \"month\").mode('overwrite').parquet(output_data + \"/songplays\")\n"
   ]
  },
  {
   "cell_type": "code",
   "execution_count": 5,
   "metadata": {
    "editable": true
   },
   "outputs": [],
   "source": [
    "def main():\n",
    "    spark = create_spark_session()\n",
    "#     input_data = \"s3a://udacity-dend/\"\n",
    "#     output_data = \"s3a://datalake-ashercornelius/analytics/\"\n",
    "    input_data = \"data/\"\n",
    "    output_data = \"analytics/\"\n",
    "    \n",
    "    process_song_data(spark, input_data, output_data, partial=True)    \n",
    "    process_log_data(spark, input_data, output_data, partial=True)\n",
    "\n",
    "if __name__ == \"__main__\":\n",
    "    main()\n"
   ]
  },
  {
   "cell_type": "code",
   "execution_count": null,
   "metadata": {
    "editable": true
   },
   "outputs": [],
   "source": []
  }
 ],
 "metadata": {
  "kernelspec": {
   "display_name": "Python 3",
   "language": "python",
   "name": "python3"
  },
  "language_info": {
   "codemirror_mode": {
    "name": "ipython",
    "version": 3
   },
   "file_extension": ".py",
   "mimetype": "text/x-python",
   "name": "python",
   "nbconvert_exporter": "python",
   "pygments_lexer": "ipython3",
   "version": "3.6.3"
  }
 },
 "nbformat": 4,
 "nbformat_minor": 4
}
